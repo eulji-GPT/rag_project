{
 "cells": [
  {
   "cell_type": "code",
   "execution_count": null,
   "id": "03823aa9",
   "metadata": {},
   "outputs": [],
   "source": []
  },
  {
   "cell_type": "code",
   "execution_count": 1,
   "id": "2585eb55",
   "metadata": {},
   "outputs": [],
   "source": [
    "# notion_fetch_test.py\n",
    "from notion_client import Client\n",
    "from notion_config import NOTION_TOKEN, DATABASE_ID\n"
   ]
  },
  {
   "cell_type": "code",
   "execution_count": null,
   "id": "421e7e8b",
   "metadata": {},
   "outputs": [],
   "source": [
    "def fetch_notion_data():\n",
    "    results = notion.databases.query(database_id=DATABASE_ID)[\"results\"]\n",
    "\n",
    "    print(\"🔍 Notion DB에서 불러온 항목:\")\n",
    "    for i, page in enumerate(results):\n",
    "        prop_keys = list(page[\"properties\"].keys())\n",
    "        print(f\"\\n✅ 페이지 {i+1}의 property key 목록: {prop_keys}\")\n",
    "\n",
    "        # 가장 첫 번째 title 타입 속성을 찾아 출력\n",
    "        title = \"(제목 없음)\"\n",
    "        for key in prop_keys:\n",
    "            if page[\"properties\"][key][\"type\"] == \"title\":\n",
    "                title_items = page[\"properties\"][key][\"title\"]\n",
    "                if title_items:\n",
    "                    title = title_items[0][\"plain_text\"]\n",
    "                break\n",
    "\n",
    "        print(f\"{i+1}. 제목: {title} / ID: {page['id']}\")\n"
   ]
  },
  {
   "cell_type": "code",
   "execution_count": 3,
   "id": "fed0ddfd",
   "metadata": {},
   "outputs": [],
   "source": [
    "# Notion 클라이언트 생성\n",
    "notion = Client(auth=NOTION_TOKEN)\n"
   ]
  },
  {
   "cell_type": "code",
   "execution_count": 7,
   "id": "4da85fe5",
   "metadata": {},
   "outputs": [
    {
     "name": "stdout",
     "output_type": "stream",
     "text": [
      "🔍 Notion DB에서 불러온 항목:\n",
      "\n",
      "✅ 페이지 1의 property key 목록: ['설명', '이름']\n",
      "1. 제목: 도서관 이용 안내 / ID: 1e06d178-ee33-8016-9b9a-d0548a79d73f\n"
     ]
    }
   ],
   "source": [
    "fetch_notion_data()"
   ]
  },
  {
   "cell_type": "code",
   "execution_count": 6,
   "id": "82252154",
   "metadata": {},
   "outputs": [
    {
     "name": "stdout",
     "output_type": "stream",
     "text": [
      "📄 페이지 본문:\n",
      "\n",
      "#을지대학교 도서관은 학생들의 학습과 연구를 지원하기 위해 다양한 자료와 시설을 제공합니다. 도서관은 본관 2층과 3층에 위치하고 있으며, 열람실, 자료실, 그룹 스터디룸 등을 갖추고 있습니다.\n",
      "\n",
      "운영 시간은 다음과 같습니다.\n",
      "- 평일: 오전 9시부터 오후 10시까지\n",
      "- 토요일: 오전 10시부터 오후 5시까지\n",
      "- 일요일 및 공휴일: 휴관\n"
     ]
    }
   ],
   "source": [
    "def fetch_page_content(page_id):\n",
    "    blocks = notion.blocks.children.list(block_id=page_id)[\"results\"]\n",
    "    content = \"\"\n",
    "    for block in blocks:\n",
    "        if block[\"type\"] == \"paragraph\":\n",
    "            texts = block[\"paragraph\"][\"rich_text\"]\n",
    "            for t in texts:\n",
    "                content += t.get(\"plain_text\", \"\") + \" \"\n",
    "        content += \"\\n\"\n",
    "    return content.strip()\n",
    "\n",
    "# 테스트\n",
    "page_id = \"1e06d178-ee33-8016-9b9a-d0548a79d73f\"\n",
    "print(\"📄 페이지 본문:\\n\")\n",
    "print(fetch_page_content(page_id))\n"
   ]
  }
 ],
 "metadata": {
  "kernelspec": {
   "display_name": "local_llm",
   "language": "python",
   "name": "python3"
  },
  "language_info": {
   "codemirror_mode": {
    "name": "ipython",
    "version": 3
   },
   "file_extension": ".py",
   "mimetype": "text/x-python",
   "name": "python",
   "nbconvert_exporter": "python",
   "pygments_lexer": "ipython3",
   "version": "3.11.11"
  }
 },
 "nbformat": 4,
 "nbformat_minor": 5
}
