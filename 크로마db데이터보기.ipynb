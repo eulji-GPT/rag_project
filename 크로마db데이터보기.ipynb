{
 "cells": [
  {
   "cell_type": "code",
   "execution_count": 3,
   "id": "789c962a",
   "metadata": {},
   "outputs": [
    {
     "name": "stdout",
     "output_type": "stream",
     "text": [
      "\n",
      "📄 문서 1\n",
      "🆔 ID: notion_1e06d178ee33808fa0dfe62d3cffd937\n",
      "📑 내용: 제목: 학식당\n",
      "내용:\n",
      "을지대학교 학식당은 재학생 및 교직원의 식사 편의를 위해 운영되고 있으며, 본교 생활관 1층과 제2학생회관 지하 1층에 각각 위치해 있습니다. 학생 식당은 품질 좋은 식재료와 균형 잡힌 식단을 바탕으로 합리적인 가격에 식사를 제공하는 것을 목표로 ...\n",
      "🏷 메타데이터: {'title': '학식당'}\n"
     ]
    }
   ],
   "source": [
    "import chromadb\n",
    "\n",
    "# ChromaDB 클라이언트 열기\n",
    "client = chromadb.PersistentClient(path=\"./chroma_db\")\n",
    "collection = client.get_or_create_collection(name=\"notion_docs\")\n",
    "\n",
    "# 🔍 전체 문서 가져오기 (예: 최대 5개까지 보기)\n",
    "results = collection.get(include=[\"documents\", \"metadatas\"], limit=5)\n",
    "\n",
    "# 출력\n",
    "for i in range(len(results[\"ids\"])):\n",
    "    print(f\"\\n📄 문서 {i+1}\")\n",
    "    print(f\"🆔 ID: {results['ids'][i]}\")\n",
    "    print(f\"📑 내용: {results['documents'][i][:150]}...\")  # 길면 앞 150자만\n",
    "    print(f\"🏷 메타데이터: {results['metadatas'][i]}\")\n"
   ]
  }
 ],
 "metadata": {
  "kernelspec": {
   "display_name": "local_llm",
   "language": "python",
   "name": "python3"
  },
  "language_info": {
   "codemirror_mode": {
    "name": "ipython",
    "version": 3
   },
   "file_extension": ".py",
   "mimetype": "text/x-python",
   "name": "python",
   "nbconvert_exporter": "python",
   "pygments_lexer": "ipython3",
   "version": "3.11.11"
  }
 },
 "nbformat": 4,
 "nbformat_minor": 5
}
